{
 "cells": [
  {
   "cell_type": "code",
   "execution_count": 15,
   "id": "064f3372-d76c-400d-b0fe-92aa1d8e13b4",
   "metadata": {},
   "outputs": [],
   "source": [
    "def selection_sort(arr):\n",
    "    if not arr:\n",
    "        return arr  # Handle empty list\n",
    "\n",
    "    size = len(arr)\n",
    "    for i in range(size):\n",
    "        min_index = i  # Assume current is minimum\n",
    "\n",
    "        for j in range(i + 1, size):\n",
    "            if arr[j] < arr[min_index]:\n",
    "                min_index = j  # Update minimum\n",
    "\n",
    "        arr[i], arr[min_index] = arr[min_index], arr[i]  # Swap with current\n",
    "\n",
    "    return arr"
   ]
  },
  {
   "cell_type": "code",
   "execution_count": 16,
   "id": "472266ef-ca4a-42a3-b78c-0cc7eb96806f",
   "metadata": {},
   "outputs": [
    {
     "name": "stdout",
     "output_type": "stream",
     "text": [
      "[0, 1, 2, 3, 4, 5]\n"
     ]
    }
   ],
   "source": [
    "arr = [4,3,2,1,5,0]\n",
    "res = selection_sort(arr)\n",
    "print(res)"
   ]
  },
  {
   "cell_type": "code",
   "execution_count": null,
   "id": "6e27cfc9-6272-4d34-be03-09b0dc33d9a8",
   "metadata": {},
   "outputs": [],
   "source": []
  }
 ],
 "metadata": {
  "kernelspec": {
   "display_name": "Python 3 (ipykernel)",
   "language": "python",
   "name": "python3"
  },
  "language_info": {
   "codemirror_mode": {
    "name": "ipython",
    "version": 3
   },
   "file_extension": ".py",
   "mimetype": "text/x-python",
   "name": "python",
   "nbconvert_exporter": "python",
   "pygments_lexer": "ipython3",
   "version": "3.12.7"
  }
 },
 "nbformat": 4,
 "nbformat_minor": 5
}
